{
 "cells": [
  {
   "cell_type": "markdown",
   "id": "ef1daa22-dbbc-4746-b65d-2ce2589aafbf",
   "metadata": {},
   "source": [
    "# Exercises"
   ]
  },
  {
   "cell_type": "markdown",
   "id": "337b5aab-cdf4-4e98-b2bb-8ae612ff2645",
   "metadata": {},
   "source": [
    "This notebook contains exercises for section 2.2 of the Medford group graduate student training. These exercises cover DFT convergence testing in SPARC."
   ]
  },
  {
   "cell_type": "markdown",
   "id": "22b163a3-6de9-40b2-9cf5-224af80ce32e",
   "metadata": {},
   "source": [
    "## Exercise 1"
   ]
  },
  {
   "cell_type": "markdown",
   "id": "d509ea9f-32b3-420e-a8f9-5affa758f144",
   "metadata": {},
   "source": [
    "We start with the simple example of an isolated atom. Place a single carbon atom in a cubic box with dimension *L* in SPARC. Compute the energy of the system for values of *L* in the interval 2—14 Å with a 1 Å increment. <br>\n",
    "Determine the minimal dimension of the box you recommend for the study by plotting system energy against *L* in Python using the code below. <br>\n",
    "Explain why the energy converges to the energy that you determine."
   ]
  },
  {
   "cell_type": "code",
   "execution_count": null,
   "id": "300eefa5-fad6-4b74-887a-219b0723674e",
   "metadata": {},
   "outputs": [],
   "source": [
    "import numpy as np\n",
    "import pylab as plt\n",
    "\n",
    "L = np.arange(2,15)\n",
    "E = [] # FILL THIS IN\n",
    "\n",
    "plt.plot(L, E, 'o-');\n",
    "plt.title('Box dimension convergence testing for C');\n",
    "plt.xlabel('Lattice parameter [Å]');\n",
    "plt.ylabel('Energy [eV]');"
   ]
  },
  {
   "cell_type": "markdown",
   "id": "9afcae1e-8b81-4592-921f-4dae9e8933d9",
   "metadata": {},
   "source": [
    "**Side note: should energy be in Hartree for SPARC?**"
   ]
  },
  {
   "cell_type": "markdown",
   "id": "e8c3edea-e4aa-4c04-a602-ffd857d8e17d",
   "metadata": {},
   "source": [
    "## Exercise 2"
   ]
  },
  {
   "cell_type": "markdown",
   "id": "4587cdca-271b-4e01-b521-2ac13beaa955",
   "metadata": {},
   "source": [
    "For a conventional unit cell of FCC copper, compute per-atom energies and CPU time for different mesh spacings from 1—14 with an increment of 1. <br>\n",
    "Determine the optimal mesh spacing in terms of accuracy versus computational cost."
   ]
  },
  {
   "cell_type": "code",
   "execution_count": null,
   "id": "fe078119-0754-4ab5-acbd-9a65fd01194f",
   "metadata": {},
   "outputs": [],
   "source": [
    "k = np.arange(1,15)\n",
    "E = [] # FILL THIS IN\n",
    "CPU_time = [] # FILL THIS IN\n",
    "\n",
    "fig, ax1 = plt.subplots();\n",
    "ax2 = ax1.twinx();\n",
    "ax1.plot(k, E, 'bo-');\n",
    "ax2.plot(k, CPU_time, 'ro-');\n",
    "\n",
    "plt.title('Mesh spacing convergence testing for FCC Cu');\n",
    "ax1.set_xlabel('Mesh spacing');\n",
    "ax1.set_ylabel('Energy [eV/atom]', color = 'b');\n",
    "ax2.set_ylabel('runtime ([sec]', color = 'r');"
   ]
  },
  {
   "cell_type": "markdown",
   "id": "7bcfd6b4-9184-48b7-b819-a5df6cc4c9e4",
   "metadata": {},
   "source": [
    "Next, apply a small perturbation of 0.9 Å to one of the atoms in the FCC copper cell. Repeat the same calculation as above. <br>\n",
    "Compare per-atom energies before and after the displacement was applied, per-atom energy difference (ΔE = E<sub>After</sub>-E<sub>Before</sub>), and CPU time. Determine whether E<sub>After</sub> or ΔE converged faster with respect to mesh spacing and why."
   ]
  },
  {
   "cell_type": "code",
   "execution_count": null,
   "id": "d0e29ab4-0d4d-4739-a651-36e9a880ea10",
   "metadata": {},
   "outputs": [],
   "source": [
    "E_after = [] # FILL THIS IN\n",
    "CPU_time_after = [] # FILL THIS IN\n",
    "\n",
    "fig, ax1 = plt.subplots();\n",
    "ax2 = ax1.twinx();\n",
    "ax1.plot(k, E_after, 'bo-');\n",
    "ax2.plot(k, CPU_time_after, 'ro-');\n",
    "\n",
    "plt.title('Mesh spacing convergence testing for FCC Cu with perturbation');\n",
    "ax1.set_xlabel('Mesh spacing');\n",
    "ax1.set_ylabel('Energy [eV/atom]', color = 'b');\n",
    "ax2.set_ylabel('runtime ([sec]', color = 'r');"
   ]
  },
  {
   "cell_type": "markdown",
   "id": "86d312c0-c1f7-4874-9db5-3fac4fd84a48",
   "metadata": {},
   "source": [
    "**Side note: integration schemes in SPARC? Symmetry?**"
   ]
  },
  {
   "cell_type": "markdown",
   "id": "deb3ab1b-7463-445a-9d6c-0fcca7bb37e7",
   "metadata": {},
   "source": [
    "## Exercise 3"
   ]
  },
  {
   "cell_type": "markdown",
   "id": "b5331ad1-1abc-4979-b609-5b2a9b402537",
   "metadata": {},
   "source": [
    "For a diamond unit cell, test the convergence of total energy with respect to energy cutoff. Repeat this calculation for each mesh spacing in *M* = [2, 6, 10] and determine the optimal energy cutoff for each."
   ]
  },
  {
   "cell_type": "code",
   "execution_count": null,
   "id": "ff1c9217-f8be-4c01-8d2b-c02768642c3a",
   "metadata": {},
   "outputs": [],
   "source": [
    "ENCUT = [50, 100, 150, 200, 250, 300, 500] # eV\n",
    "fig, (ax1,ax2,ax3) = plt.subplots(3, sharex = True, figsize = (5,10));\n",
    "plt.subplots_adjust(hspace = 0.2)\n",
    "ax3.set_xlabel('ENCUT [eV]');\n",
    "\n",
    "# M = 2\n",
    "E_2 = [] # FILL THIS IN\n",
    "ax1.plot(ENCUT, E_2, 'o-');\n",
    "ax1.set_ylabel('Energy [eV]');\n",
    "ax1.set_title('M = 2');\n",
    "\n",
    "# M = 6\n",
    "E_6 = [] # FILL THIS IN\n",
    "ax2.plot(ENCUT, E_6, 'o-');\n",
    "ax2.set_ylabel('Energy [eV]');\n",
    "ax2.set_title('M = 6');\n",
    "\n",
    "# M = 10\n",
    "E_10 = [] # FILL THIS IN\n",
    "ax3.plot(ENCUT, E_10, 'o-');\n",
    "ax3.set_ylabel('Energy [eV]');\n",
    "ax3.set_title('M = 10');"
   ]
  },
  {
   "cell_type": "markdown",
   "id": "291a9b74-16bf-487c-abb5-8a6060c5680a",
   "metadata": {},
   "source": [
    "**Side note: energy cutoff keyword in SPARC?**"
   ]
  }
 ],
 "metadata": {
  "kernelspec": {
   "display_name": "Python 3 (ipykernel)",
   "language": "python",
   "name": "python3"
  },
  "language_info": {
   "codemirror_mode": {
    "name": "ipython",
    "version": 3
   },
   "file_extension": ".py",
   "mimetype": "text/x-python",
   "name": "python",
   "nbconvert_exporter": "python",
   "pygments_lexer": "ipython3",
   "version": "3.10.5"
  }
 },
 "nbformat": 4,
 "nbformat_minor": 5
}
