{
 "cells": [
  {
   "cell_type": "markdown",
   "metadata": {},
   "source": [
    "# Getting Started With ASE\n",
    "\n",
    "[The atomistic simulation environment](https://wiki.fysik.dtu.dk/ase/index.html) (ASE) is an extremely powerful tool for generating atomic structures and performing density functional theory calculations (DFT.) "
   ]
  },
  {
   "cell_type": "code",
   "execution_count": 1,
   "metadata": {},
   "outputs": [
    {
     "name": "stdout",
     "output_type": "stream",
     "text": [
      "Requirement already satisfied: ase in /opt/anaconda3/lib/python3.7/site-packages (3.19.0)\n",
      "Requirement already satisfied: matplotlib in /opt/anaconda3/lib/python3.7/site-packages (from ase) (3.1.1)\n",
      "Requirement already satisfied: scipy in /opt/anaconda3/lib/python3.7/site-packages (from ase) (1.3.1)\n",
      "Requirement already satisfied: numpy in /opt/anaconda3/lib/python3.7/site-packages (from ase) (1.17.2)\n",
      "Requirement already satisfied: cycler>=0.10 in /opt/anaconda3/lib/python3.7/site-packages (from matplotlib->ase) (0.10.0)\n",
      "Requirement already satisfied: kiwisolver>=1.0.1 in /opt/anaconda3/lib/python3.7/site-packages (from matplotlib->ase) (1.1.0)\n",
      "Requirement already satisfied: pyparsing!=2.0.4,!=2.1.2,!=2.1.6,>=2.0.1 in /opt/anaconda3/lib/python3.7/site-packages (from matplotlib->ase) (2.4.2)\n",
      "Requirement already satisfied: python-dateutil>=2.1 in /opt/anaconda3/lib/python3.7/site-packages (from matplotlib->ase) (2.8.0)\n",
      "Requirement already satisfied: six in /opt/anaconda3/lib/python3.7/site-packages (from cycler>=0.10->matplotlib->ase) (1.12.0)\n",
      "Requirement already satisfied: setuptools in /opt/anaconda3/lib/python3.7/site-packages (from kiwisolver>=1.0.1->matplotlib->ase) (41.4.0)\n",
      "Requirement already satisfied: nglview in /opt/anaconda3/lib/python3.7/site-packages (2.7.1)\n",
      "Requirement already satisfied: numpy in /opt/anaconda3/lib/python3.7/site-packages (from nglview) (1.17.2)\n",
      "Requirement already satisfied: ipywidgets>=7 in /opt/anaconda3/lib/python3.7/site-packages (from nglview) (7.5.1)\n",
      "Requirement already satisfied: nbformat>=4.2.0 in /opt/anaconda3/lib/python3.7/site-packages (from ipywidgets>=7->nglview) (4.4.0)\n",
      "Requirement already satisfied: widgetsnbextension~=3.5.0 in /opt/anaconda3/lib/python3.7/site-packages (from ipywidgets>=7->nglview) (3.5.1)\n",
      "Requirement already satisfied: traitlets>=4.3.1 in /opt/anaconda3/lib/python3.7/site-packages (from ipywidgets>=7->nglview) (4.3.3)\n",
      "Requirement already satisfied: ipython>=4.0.0; python_version >= \"3.3\" in /opt/anaconda3/lib/python3.7/site-packages (from ipywidgets>=7->nglview) (7.8.0)\n",
      "Requirement already satisfied: ipykernel>=4.5.1 in /opt/anaconda3/lib/python3.7/site-packages (from ipywidgets>=7->nglview) (5.1.2)\n",
      "Requirement already satisfied: ipython-genutils in /opt/anaconda3/lib/python3.7/site-packages (from nbformat>=4.2.0->ipywidgets>=7->nglview) (0.2.0)\n",
      "Requirement already satisfied: jupyter-core in /opt/anaconda3/lib/python3.7/site-packages (from nbformat>=4.2.0->ipywidgets>=7->nglview) (4.5.0)\n",
      "Requirement already satisfied: jsonschema!=2.5.0,>=2.4 in /opt/anaconda3/lib/python3.7/site-packages (from nbformat>=4.2.0->ipywidgets>=7->nglview) (3.0.2)\n",
      "Requirement already satisfied: notebook>=4.4.1 in /opt/anaconda3/lib/python3.7/site-packages (from widgetsnbextension~=3.5.0->ipywidgets>=7->nglview) (6.0.1)\n",
      "Requirement already satisfied: decorator in /opt/anaconda3/lib/python3.7/site-packages (from traitlets>=4.3.1->ipywidgets>=7->nglview) (4.4.0)\n",
      "Requirement already satisfied: six in /opt/anaconda3/lib/python3.7/site-packages (from traitlets>=4.3.1->ipywidgets>=7->nglview) (1.12.0)\n",
      "Requirement already satisfied: backcall in /opt/anaconda3/lib/python3.7/site-packages (from ipython>=4.0.0; python_version >= \"3.3\"->ipywidgets>=7->nglview) (0.1.0)\n",
      "Requirement already satisfied: jedi>=0.10 in /opt/anaconda3/lib/python3.7/site-packages (from ipython>=4.0.0; python_version >= \"3.3\"->ipywidgets>=7->nglview) (0.15.1)\n",
      "Requirement already satisfied: pickleshare in /opt/anaconda3/lib/python3.7/site-packages (from ipython>=4.0.0; python_version >= \"3.3\"->ipywidgets>=7->nglview) (0.7.5)\n",
      "Requirement already satisfied: prompt-toolkit<2.1.0,>=2.0.0 in /opt/anaconda3/lib/python3.7/site-packages (from ipython>=4.0.0; python_version >= \"3.3\"->ipywidgets>=7->nglview) (2.0.10)\n",
      "Requirement already satisfied: pygments in /opt/anaconda3/lib/python3.7/site-packages (from ipython>=4.0.0; python_version >= \"3.3\"->ipywidgets>=7->nglview) (2.4.2)\n",
      "Requirement already satisfied: appnope; sys_platform == \"darwin\" in /opt/anaconda3/lib/python3.7/site-packages (from ipython>=4.0.0; python_version >= \"3.3\"->ipywidgets>=7->nglview) (0.1.0)\n",
      "Requirement already satisfied: pexpect; sys_platform != \"win32\" in /opt/anaconda3/lib/python3.7/site-packages (from ipython>=4.0.0; python_version >= \"3.3\"->ipywidgets>=7->nglview) (4.7.0)\n",
      "Requirement already satisfied: setuptools>=18.5 in /opt/anaconda3/lib/python3.7/site-packages (from ipython>=4.0.0; python_version >= \"3.3\"->ipywidgets>=7->nglview) (41.4.0)\n",
      "Requirement already satisfied: tornado>=4.2 in /opt/anaconda3/lib/python3.7/site-packages (from ipykernel>=4.5.1->ipywidgets>=7->nglview) (6.0.3)\n",
      "Requirement already satisfied: jupyter-client in /opt/anaconda3/lib/python3.7/site-packages (from ipykernel>=4.5.1->ipywidgets>=7->nglview) (5.3.3)\n",
      "Requirement already satisfied: pyrsistent>=0.14.0 in /opt/anaconda3/lib/python3.7/site-packages (from jsonschema!=2.5.0,>=2.4->nbformat>=4.2.0->ipywidgets>=7->nglview) (0.15.4)\n",
      "Requirement already satisfied: attrs>=17.4.0 in /opt/anaconda3/lib/python3.7/site-packages (from jsonschema!=2.5.0,>=2.4->nbformat>=4.2.0->ipywidgets>=7->nglview) (19.2.0)\n",
      "Requirement already satisfied: Send2Trash in /opt/anaconda3/lib/python3.7/site-packages (from notebook>=4.4.1->widgetsnbextension~=3.5.0->ipywidgets>=7->nglview) (1.5.0)\n",
      "Requirement already satisfied: nbconvert in /opt/anaconda3/lib/python3.7/site-packages (from notebook>=4.4.1->widgetsnbextension~=3.5.0->ipywidgets>=7->nglview) (5.6.0)\n",
      "Requirement already satisfied: terminado>=0.8.1 in /opt/anaconda3/lib/python3.7/site-packages (from notebook>=4.4.1->widgetsnbextension~=3.5.0->ipywidgets>=7->nglview) (0.8.2)\n",
      "Requirement already satisfied: prometheus-client in /opt/anaconda3/lib/python3.7/site-packages (from notebook>=4.4.1->widgetsnbextension~=3.5.0->ipywidgets>=7->nglview) (0.7.1)\n",
      "Requirement already satisfied: jinja2 in /opt/anaconda3/lib/python3.7/site-packages (from notebook>=4.4.1->widgetsnbextension~=3.5.0->ipywidgets>=7->nglview) (2.10.3)\n",
      "Requirement already satisfied: pyzmq>=17 in /opt/anaconda3/lib/python3.7/site-packages (from notebook>=4.4.1->widgetsnbextension~=3.5.0->ipywidgets>=7->nglview) (18.1.0)\n",
      "Requirement already satisfied: parso>=0.5.0 in /opt/anaconda3/lib/python3.7/site-packages (from jedi>=0.10->ipython>=4.0.0; python_version >= \"3.3\"->ipywidgets>=7->nglview) (0.5.1)\n",
      "Requirement already satisfied: wcwidth in /opt/anaconda3/lib/python3.7/site-packages (from prompt-toolkit<2.1.0,>=2.0.0->ipython>=4.0.0; python_version >= \"3.3\"->ipywidgets>=7->nglview) (0.1.7)\n",
      "Requirement already satisfied: ptyprocess>=0.5 in /opt/anaconda3/lib/python3.7/site-packages (from pexpect; sys_platform != \"win32\"->ipython>=4.0.0; python_version >= \"3.3\"->ipywidgets>=7->nglview) (0.6.0)\n",
      "Requirement already satisfied: python-dateutil>=2.1 in /opt/anaconda3/lib/python3.7/site-packages (from jupyter-client->ipykernel>=4.5.1->ipywidgets>=7->nglview) (2.8.0)\n",
      "Requirement already satisfied: pandocfilters>=1.4.1 in /opt/anaconda3/lib/python3.7/site-packages (from nbconvert->notebook>=4.4.1->widgetsnbextension~=3.5.0->ipywidgets>=7->nglview) (1.4.2)\n",
      "Requirement already satisfied: entrypoints>=0.2.2 in /opt/anaconda3/lib/python3.7/site-packages (from nbconvert->notebook>=4.4.1->widgetsnbextension~=3.5.0->ipywidgets>=7->nglview) (0.3)\n",
      "Requirement already satisfied: testpath in /opt/anaconda3/lib/python3.7/site-packages (from nbconvert->notebook>=4.4.1->widgetsnbextension~=3.5.0->ipywidgets>=7->nglview) (0.4.2)\n",
      "Requirement already satisfied: defusedxml in /opt/anaconda3/lib/python3.7/site-packages (from nbconvert->notebook>=4.4.1->widgetsnbextension~=3.5.0->ipywidgets>=7->nglview) (0.6.0)\n",
      "Requirement already satisfied: mistune<2,>=0.8.1 in /opt/anaconda3/lib/python3.7/site-packages (from nbconvert->notebook>=4.4.1->widgetsnbextension~=3.5.0->ipywidgets>=7->nglview) (0.8.4)\n",
      "Requirement already satisfied: bleach in /opt/anaconda3/lib/python3.7/site-packages (from nbconvert->notebook>=4.4.1->widgetsnbextension~=3.5.0->ipywidgets>=7->nglview) (3.1.0)\n",
      "Requirement already satisfied: MarkupSafe>=0.23 in /opt/anaconda3/lib/python3.7/site-packages (from jinja2->notebook>=4.4.1->widgetsnbextension~=3.5.0->ipywidgets>=7->nglview) (1.1.1)\n",
      "Requirement already satisfied: webencodings in /opt/anaconda3/lib/python3.7/site-packages (from bleach->nbconvert->notebook>=4.4.1->widgetsnbextension~=3.5.0->ipywidgets>=7->nglview) (0.5.1)\n"
     ]
    },
    {
     "name": "stdout",
     "output_type": "stream",
     "text": [
      "Enabling notebook extension nglview-js-widgets/extension...\n",
      "      - Validating: \u001b[32mOK\u001b[0m\n"
     ]
    }
   ],
   "source": [
    "!pip install ase\n",
    "!pip install nglview\n",
    "!jupyter-nbextension enable nglview --py --sys-prefix  # this might be needed"
   ]
  },
  {
   "cell_type": "markdown",
   "metadata": {},
   "source": [
    "## The Atoms Object\n",
    "ASE allows you to manipulate atomic structures in a programitic way using the [ASE atoms object](https://wiki.fysik.dtu.dk/ase/ase/atoms.html). This is a `class` in python that can store the positions and identities of atoms in a structure and manipulate them in useful ways. This is pretty abstract, so here is an example of generating an atoms object:"
   ]
  },
  {
   "cell_type": "code",
   "execution_count": 1,
   "metadata": {},
   "outputs": [
    {
     "name": "stdout",
     "output_type": "stream",
     "text": [
      "Atoms(symbols='H2', pbc=False)\n"
     ]
    }
   ],
   "source": [
    "from ase.atoms import Atoms # import the Atoms class from ASE\n",
    "\n",
    "H2 = Atoms(symbols='HH', positions=[(0,0,0), (0,0,0.75)])\n",
    "print(H2)"
   ]
  },
  {
   "cell_type": "markdown",
   "metadata": {},
   "source": [
    "The code above just generates an H$_2$ molecule, one hydrogen at the origin and one 0.75 angstroms up in the z direction. We can now manipulate it in interesting ways. Let's say we want to add a second H$_2$ molecule 2 angstroms away. We can do this by simply adding atoms objects to the one we already have"
   ]
  },
  {
   "cell_type": "code",
   "execution_count": 2,
   "metadata": {},
   "outputs": [
    {
     "name": "stdout",
     "output_type": "stream",
     "text": [
      "Atoms(symbols='H4', pbc=False)\n",
      "[[0.   0.   0.  ]\n",
      " [0.   0.   0.75]\n",
      " [2.   0.   0.  ]\n",
      " [2.   0.   0.75]]\n"
     ]
    }
   ],
   "source": [
    "H2 = H2 + Atoms('H2', positions = [(2,0,0), (2,0,0.75)])\n",
    "print(H2)\n",
    "print(H2.positions)"
   ]
  },
  {
   "cell_type": "markdown",
   "metadata": {},
   "source": [
    "So now we have have two H$_2$ molecules, we can shift all the atoms by simply adding an array to their positions"
   ]
  },
  {
   "cell_type": "code",
   "execution_count": 3,
   "metadata": {},
   "outputs": [
    {
     "name": "stdout",
     "output_type": "stream",
     "text": [
      "[[0.   0.   1.  ]\n",
      " [0.   0.   1.75]\n",
      " [2.   0.   1.  ]\n",
      " [2.   0.   1.75]]\n"
     ]
    }
   ],
   "source": [
    "H2.positions = H2.positions + [0,0,1]\n",
    "print(H2.positions)"
   ]
  },
  {
   "cell_type": "markdown",
   "metadata": {},
   "source": [
    "What does this look like though? We can visualize any structure using ASE's built in visualization tools"
   ]
  },
  {
   "cell_type": "code",
   "execution_count": 7,
   "metadata": {},
   "outputs": [],
   "source": [
    "from ase.visualize import view\n",
    "\n",
    "view(H2) # removing viewer='ngl' makes a pop-up window"
   ]
  },
  {
   "cell_type": "markdown",
   "metadata": {},
   "source": [
    "Atoms objects are also able to be indexed like lists. Each individual atom has an index and can be accessed in this way. When you call an index of an atoms object, you get an `Atom` object. This is just an object that represents a single atom. `Atoms` objects are simply a collection of `Atom` objects"
   ]
  },
  {
   "cell_type": "code",
   "execution_count": 8,
   "metadata": {},
   "outputs": [
    {
     "name": "stdout",
     "output_type": "stream",
     "text": [
      "Atom('H', [0.0, 0.0, 1.0], index=0)\n",
      "[0. 0. 1.]\n",
      "H\n"
     ]
    }
   ],
   "source": [
    "print(H2[0])\n",
    "print(H2[0].position)\n",
    "print(H2[0].symbol)"
   ]
  },
  {
   "cell_type": "markdown",
   "metadata": {},
   "source": [
    "Since we're doing periodic calculations, we want to put these atoms into a unit cell (a simulation box) to do this we want to use the `set_cell` method. Let's use a 10 angstrom box. We also want to write this to a file. ASE atoms objects have a `write` method that allows you to write to [almost any file type you can imagine](https://wiki.fysik.dtu.dk/ase/ase/io/io.html) (including .png images)."
   ]
  },
  {
   "cell_type": "code",
   "execution_count": 9,
   "metadata": {},
   "outputs": [
    {
     "name": "stdout",
     "output_type": "stream",
     "text": [
      "Cell([10.0, 10.0, 10.0], pbc=False)\n"
     ]
    }
   ],
   "source": [
    "H2.set_cell([10,10,10])\n",
    "H2.center() # this centers it in the unit cell\n",
    "print(H2.cell)"
   ]
  },
  {
   "cell_type": "code",
   "execution_count": 10,
   "metadata": {},
   "outputs": [],
   "source": [
    "view(H2)"
   ]
  },
  {
   "cell_type": "markdown",
   "metadata": {},
   "source": [
    "We can also write and read files using ASE"
   ]
  },
  {
   "cell_type": "code",
   "execution_count": 11,
   "metadata": {},
   "outputs": [],
   "source": [
    "H2.write('2_hydrogens.xyz')\n",
    "\n",
    "from ase.io import read # for reading files\n",
    "\n",
    "H2_2 = read('2_hydrogens.xyz')"
   ]
  },
  {
   "cell_type": "markdown",
   "metadata": {},
   "source": [
    "There are lots of useful things you can do to manipulate atoms, they are all documentated in the [ASE atoms object documentation](https://wiki.fysik.dtu.dk/ase/ase/atoms.html).\n",
    "\n",
    "But having to have all the positions for the atoms in an atoms object is quite onerous. Luckily, there are [tools to build structures in ASE](https://wiki.fysik.dtu.dk/ase/ase/build/build.html). For example, there is a molecule function that holds the positions of lots of common molecules. Similarly, the `bulk` function contains tons of bulk structures for metals. We'll use this to generate surfaces a little later on"
   ]
  },
  {
   "cell_type": "code",
   "execution_count": 16,
   "metadata": {},
   "outputs": [
    {
     "name": "stdout",
     "output_type": "stream",
     "text": [
      "Atoms(symbols='OH2', pbc=False)\n",
      "[[ 0.        0.        0.119262]\n",
      " [ 0.        0.763239 -0.477047]\n",
      " [ 0.       -0.763239 -0.477047]]\n"
     ]
    }
   ],
   "source": [
    "from ase.build import molecule, bulk\n",
    "#from ase.data.pubchem import pubchem_atoms_search\n",
    "\n",
    "water = molecule('H2O')\n",
    "print(water)\n",
    "print(water.positions)\n",
    "view(water)\n",
    "\n",
    "iron = bulk('Fe', cubic = True)\n",
    "view(iron)"
   ]
  },
  {
   "cell_type": "markdown",
   "metadata": {},
   "source": [
    "# ASE Calculators\n",
    "\n",
    "ASE has the ability to attach a \"calculator\" to an atoms object. At a fundamental level, these are just classes that will return energies and forces. That means it can be a DFT program, a quantum chemistry program, or even just a classical potential like \"Leonard-Jones\" There are [a ton](https://wiki.fysik.dtu.dk/ase/ase/calculators/calculators.html) of calculators implmented. Here we will just use a simple one, the [EMT](https://wiki.fysik.dtu.dk/ase/ase/calculators/emt.html) calculator.\n",
    "\n",
    "The `EMT` calculator is just a simple pair potential calculator for a few metals. In practice it is a toy calculator used for testing.\n",
    "\n",
    "You start by making an instance of your calculator, then using `set_calculator` to attach it to an atoms object. Once that is done you can call `get_potential_energy` and `get_forces` to calculate the energy and forces."
   ]
  },
  {
   "cell_type": "markdown",
   "metadata": {},
   "source": [
    "<img src=\"6-12_potential.gif\">"
   ]
  },
  {
   "cell_type": "code",
   "execution_count": 17,
   "metadata": {},
   "outputs": [
    {
     "name": "stdout",
     "output_type": "stream",
     "text": [
      "2.619811483369738\n",
      "[[ 0.          0.          7.73836531]\n",
      " [ 0.          5.14779422 -3.86918266]\n",
      " [ 0.         -5.14779422 -3.86918266]]\n"
     ]
    }
   ],
   "source": [
    "from ase.calculators.emt import EMT\n",
    "\n",
    "calc = EMT()\n",
    "water.set_calculator(calc)\n",
    "energy = water.get_potential_energy()\n",
    "forces = water.get_forces()\n",
    "\n",
    "print(energy)\n",
    "print(forces)"
   ]
  },
  {
   "cell_type": "markdown",
   "metadata": {},
   "source": [
    "In our group we use quatum espresso, VASP, and Abinit to do DFT in general.\n",
    "\n",
    "A primary use of calculators is to perform structural optimizations. This allows us to find the \"lowest energy configuration\" of a given structure. ASE has [tools](https://wiki.fysik.dtu.dk/ase/ase/optimize.html) to do this. Below we're using the `BFGSLineSearch` optimization method"
   ]
  },
  {
   "cell_type": "code",
   "execution_count": 18,
   "metadata": {},
   "outputs": [
    {
     "name": "stdout",
     "output_type": "stream",
     "text": [
      "                Step[ FC]     Time          Energy          fmax\n",
      "*Force-consistent energies used in optimization.\n",
      "BFGSLineSearch:    0[  0] 10:34:46        2.619811*       7.7384\n",
      "BFGSLineSearch:    1[  2] 10:34:46        1.879326*       0.0443\n"
     ]
    },
    {
     "data": {
      "text/plain": [
       "True"
      ]
     },
     "execution_count": 18,
     "metadata": {},
     "output_type": "execute_result"
    }
   ],
   "source": [
    "from ase.optimize import BFGSLineSearch\n",
    "\n",
    "relax = BFGSLineSearch(atoms = water)\n",
    "relax.run(fmax = 0.05) # relax the structure until the maximum force is 0.05 eV/A"
   ]
  },
  {
   "cell_type": "code",
   "execution_count": 19,
   "metadata": {
    "scrolled": true
   },
   "outputs": [],
   "source": [
    "view(water)"
   ]
  },
  {
   "cell_type": "markdown",
   "metadata": {},
   "source": [
    "### Exercise:\n",
    "\n",
    "Use the EMT calculator to plot the potential energy as a function of distance between two H atoms."
   ]
  },
  {
   "cell_type": "code",
   "execution_count": 39,
   "metadata": {},
   "outputs": [
    {
     "data": {
      "text/plain": [
       "[<matplotlib.lines.Line2D at 0x7fc4c82dfe80>]"
      ]
     },
     "execution_count": 39,
     "metadata": {},
     "output_type": "execute_result"
    },
    {
     "data": {
      "image/png": "[encoded data removed]",
      "text/plain": [
       "<Figure size 432x288 with 1 Axes>"
      ]
     },
     "metadata": {
      "needs_background": "light"
     },
     "output_type": "display_data"
    }
   ],
   "source": [
    "import numpy as np\n",
    "from matplotlib import pyplot as plt\n",
    "%matplotlib inline\n",
    "rs = np.linspace(0.4, 3, 50)\n",
    "engs = []\n",
    "## calculate energy as a function of r\n",
    "for r in rs:\n",
    "    atoms = molecule('H2')\n",
    "    atoms.set_distance(0,1,r)\n",
    "    atoms.set_calculator(EMT())\n",
    "    engs.append(atoms.get_potential_energy())\n",
    "    \n",
    "plt.plot(rs, engs)\n"
   ]
  },
  {
   "cell_type": "markdown",
   "metadata": {},
   "source": [
    "# Calculating Reaction Energies\n",
    "\n",
    "Reaction energies are the core of computational catalysis and surface science because they provide fundamental information about the energy for a chemical reaction. This section is meant to cover the basics of how to calculate a reaction energy using DFT.\n",
    "\n",
    "The adsorption energy is defined as the energy difference between the combined system and the separate systems:\n",
    "\n",
    "$E_{rxn} = \\Sigma E_{products} - \\Sigma E_{reactants}$\n",
    "\n",
    "here we're going to calculate the reaction energy of forming water for O$_2$ and H$_2$"
   ]
  },
  {
   "cell_type": "markdown",
   "metadata": {},
   "source": [
    "We'll start by making an O$_2$ molecule"
   ]
  },
  {
   "cell_type": "code",
   "execution_count": 28,
   "metadata": {},
   "outputs": [],
   "source": [
    "from ase.build import molecule\n",
    "\n",
    "O2 = molecule('O2')"
   ]
  },
  {
   "cell_type": "markdown",
   "metadata": {},
   "source": [
    "lets visualize it next."
   ]
  },
  {
   "cell_type": "code",
   "execution_count": 29,
   "metadata": {},
   "outputs": [],
   "source": [
    "from ase.visualize import view\n",
    "\n",
    "view(O2)"
   ]
  },
  {
   "cell_type": "markdown",
   "metadata": {},
   "source": [
    "To calculate the energy of this molecule, we're going to use the EMT calculator."
   ]
  },
  {
   "cell_type": "code",
   "execution_count": 30,
   "metadata": {},
   "outputs": [],
   "source": [
    "from ase.calculators.emt import EMT\n",
    "\n",
    "O2.set_calculator(EMT())"
   ]
  },
  {
   "cell_type": "markdown",
   "metadata": {},
   "source": [
    "Next we need to optimize the structure, because chances are it's not in its lowest energy configuration"
   ]
  },
  {
   "cell_type": "code",
   "execution_count": 31,
   "metadata": {},
   "outputs": [
    {
     "name": "stdout",
     "output_type": "stream",
     "text": [
      "                Step[ FC]     Time          Energy          fmax\n",
      "*Force-consistent energies used in optimization.\n",
      "BFGSLineSearch:    0[  0] 10:42:47        0.922681*       3.7034\n",
      "BFGSLineSearch:    1[  2] 10:42:47        0.629226*       0.5399\n",
      "BFGSLineSearch:    2[  3] 10:42:47        0.625298*       0.1946\n",
      "BFGSLineSearch:    3[  4] 10:42:47        0.624750*       0.0064\n"
     ]
    }
   ],
   "source": [
    "from ase.optimize import QuasiNewton\n",
    "\n",
    "dyn = QuasiNewton(O2)\n",
    "dyn.run(fmax=0.05)\n",
    "\n",
    "\n",
    "E_O2 = O2.get_potential_energy()"
   ]
  },
  {
   "cell_type": "markdown",
   "metadata": {},
   "source": [
    "next let's build and optimize H$_2$ and H$_2$O. ASE has some nice tools for doing this."
   ]
  },
  {
   "cell_type": "code",
   "execution_count": 32,
   "metadata": {},
   "outputs": [
    {
     "name": "stdout",
     "output_type": "stream",
     "text": [
      "                Step[ FC]     Time          Energy          fmax\n",
      "*Force-consistent energies used in optimization.\n",
      "BFGSLineSearch:    0[  0] 10:43:04        1.158863*       4.4619\n",
      "BFGSLineSearch:    1[  2] 10:43:04        1.076999*       1.0416\n",
      "BFGSLineSearch:    2[  3] 10:43:04        1.070713*       0.1746\n",
      "BFGSLineSearch:    3[  4] 10:43:04        1.070542*       0.0090\n"
     ]
    }
   ],
   "source": [
    "H2 = molecule('H2')\n",
    "\n",
    "\n",
    "H2.set_calculator(EMT())\n",
    "dyn = QuasiNewton(H2)\n",
    "dyn.run(fmax=0.05)\n",
    "\n",
    "E_H2 = H2.get_potential_energy()\n"
   ]
  },
  {
   "cell_type": "code",
   "execution_count": 33,
   "metadata": {},
   "outputs": [],
   "source": [
    "view(H2)"
   ]
  },
  {
   "cell_type": "markdown",
   "metadata": {},
   "source": [
    "Now we add the adsorpate and optimize That."
   ]
  },
  {
   "cell_type": "code",
   "execution_count": 34,
   "metadata": {},
   "outputs": [
    {
     "name": "stdout",
     "output_type": "stream",
     "text": [
      "                Step[ FC]     Time          Energy          fmax\n",
      "*Force-consistent energies used in optimization.\n",
      "BFGSLineSearch:    0[  0] 10:43:34        2.619811*       7.7384\n",
      "BFGSLineSearch:    1[  2] 10:43:34        1.879326*       0.0443\n"
     ]
    }
   ],
   "source": [
    "H2O = molecule('H2O')\n",
    "\n",
    "\n",
    "H2O.set_calculator(EMT())\n",
    "dyn = QuasiNewton(H2O)\n",
    "dyn.run(fmax=0.05)\n",
    "\n",
    "E_H2O = H2O.get_potential_energy()\n"
   ]
  },
  {
   "cell_type": "code",
   "execution_count": 35,
   "metadata": {},
   "outputs": [],
   "source": [
    "view(H2O)"
   ]
  },
  {
   "cell_type": "markdown",
   "metadata": {},
   "source": [
    "Now, finally, we have the energy of the gas, the slab, and the slab with the adsorbate. We can now calculate the adsorption energy."
   ]
  },
  {
   "cell_type": "code",
   "execution_count": 36,
   "metadata": {},
   "outputs": [
    {
     "name": "stdout",
     "output_type": "stream",
     "text": [
      "0.49640892802334635\n"
     ]
    }
   ],
   "source": [
    "E_rxn = E_H2O - E_H2 - 0.5*E_O2\n",
    "print(E_rxn) # answer is in eV"
   ]
  },
  {
   "cell_type": "markdown",
   "metadata": {},
   "source": [
    "Note that this is not very accurate! The real value is approximately -285.8261 kJ/mol. The reason is that we used the \"EMT\" calculator, which is not appropriate for the physics of molecules. However, it is very fast, so it allows us to see the principles behind how reaction energies can be computed. If we want accurate numbers, we need to use quantum mechanics, approximated through Density Functional Theory (DFT). This will be much more computationally expensive, and will require a supercomputer. You will learn more about this in future lessons."
   ]
  },
  {
   "cell_type": "code",
   "execution_count": 37,
   "metadata": {},
   "outputs": [
    {
     "name": "stdout",
     "output_type": "stream",
     "text": [
      "-2.962378751888467\n"
     ]
    }
   ],
   "source": [
    "from ase.units import kJ, mol\n",
    "true_value = -285.8261 * kJ / mol\n",
    "print(true_value)"
   ]
  },
  {
   "cell_type": "code",
   "execution_count": 38,
   "metadata": {},
   "outputs": [
    {
     "name": "stdout",
     "output_type": "stream",
     "text": [
      "-1.1675710533998713\n"
     ]
    }
   ],
   "source": [
    "error = (E_rxn-true_value)/true_value\n",
    "print(error)"
   ]
  },
  {
   "cell_type": "code",
   "execution_count": null,
   "metadata": {},
   "outputs": [],
   "source": []
  }
 ],
 "metadata": {
  "kernelspec": {
   "display_name": "Python 3",
   "language": "python",
   "name": "python3"
  },
  "language_info": {
   "codemirror_mode": {
    "name": "ipython",
    "version": 3
   },
   "file_extension": ".py",
   "mimetype": "text/x-python",
   "name": "python",
   "nbconvert_exporter": "python",
   "pygments_lexer": "ipython3",
   "version": "3.7.4"
  },
  "toc": {
   "base_numbering": 1,
   "nav_menu": {},
   "number_sections": true,
   "sideBar": true,
   "skip_h1_title": true,
   "title_cell": "Table of Contents",
   "title_sidebar": "Contents",
   "toc_cell": true,
   "toc_position": {},
   "toc_section_display": true,
   "toc_window_display": false
  }
 },
 "nbformat": 4,
 "nbformat_minor": 2
}
