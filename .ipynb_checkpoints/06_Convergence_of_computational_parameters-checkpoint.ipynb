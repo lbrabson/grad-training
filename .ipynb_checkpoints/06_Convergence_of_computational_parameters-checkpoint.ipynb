{
 "cells": [
  {
   "cell_type": "markdown",
   "metadata": {},
   "source": [
    "# Convergence of computational parameters in Density Functional Theory"
   ]
  },
  {
   "cell_type": "markdown",
   "metadata": {},
   "source": [
    "So far, we have learnt about the parameters that need to be specified in a DFT calculation but we haven't looked at the details of the standard procedure of choosing these parameters. As we know that solving Kohn-Sham (KS) equations require multiple iterations with an initial guess of electron density, when we run DFT calculations, we always need to verify if the calculations have converged. In a \"well-converged\" calculation, the solution should accurately approximate the true solution of the mathematical formulation of the KS-DFT equations. In this lesson, we will learn about that is needed to perform a well-converged DFT calculation. "
   ]
  },
  {
   "cell_type": "code",
   "execution_count": null,
   "metadata": {},
   "outputs": [],
   "source": []
  },
  {
   "cell_type": "markdown",
   "metadata": {},
   "source": [
    "### Recommended reading"
   ]
  },
  {
   "cell_type": "markdown",
   "metadata": {},
   "source": [
    "To learn more about convergence of computation parameters, it is recommended to read Chapter 3: Nuts and Bolts of DFT calculation of Dr. David Sholl's book on Density Functional Theory."
   ]
  }
 ],
 "metadata": {
  "kernelspec": {
   "display_name": "Python 3",
   "language": "python",
   "name": "python3"
  },
  "language_info": {
   "codemirror_mode": {
    "name": "ipython",
    "version": 3
   },
   "file_extension": ".py",
   "mimetype": "text/x-python",
   "name": "python",
   "nbconvert_exporter": "python",
   "pygments_lexer": "ipython3",
   "version": "3.7.4"
  }
 },
 "nbformat": 4,
 "nbformat_minor": 4
}
