{
 "cells": [
  {
   "cell_type": "markdown",
   "metadata": {},
   "source": [
    "## Running Quantum Espresso on PACE Phoenix\n",
    "\n",
    "For the purpose of DFT calculations, our group primarily uses Quantum Espresso (QE) which is a plane-wave method code. As a member of this group, you will have access to two supercomputer clusters here at Georgia Tech: PACE-Phoenix and PACE-Hive. Various versions for QE are present in the shared folder of Medford group. The environment can be sourced in the bash file. An example command to source QE environment is:\n",
    "\n",
    "source /storage/coda1/p-amedford6/0/shared/rich_project_chbe-medford/medford-share/envs/espresso-6.7Max-beef-ipi\n",
    "\n",
    "Version 6.7Max is the environment for latest compiled QE code. "
   ]
  },
  {
   "cell_type": "markdown",
   "metadata": {},
   "source": [
    "### PBS Script to submit a calculation on supercomputer"
   ]
  },
  {
   "cell_type": "markdown",
   "metadata": {},
   "source": [
    "If you are on PACE-Phoenix, you will need to request for resources from your PI's account. This means that you are paying for the jobs you are running therefore, these resources should be used judiciously. An example run.sh script to submit a QE job is given below:"
   ]
  },
  {
   "cell_type": "code",
   "execution_count": null,
   "metadata": {},
   "outputs": [],
   "source": [
    "#!/bin/bash\n",
    "#PBS -l nodes=1:ppn=8\n",
    "#PBS -l pmem=3GB\n",
    "#PBS -l walltime=12:00:00\n",
    "#PBS -A GT-amedford6\n",
    "#PBS -N optimizer\n",
    "#PBS -o stdout\n",
    "#PBS -e stderr\n",
    "cd $PBS_O_WORKDIR\n",
    "\n",
    "source ~/.bashrc\n",
    "\n",
    "module load anaconda3\n",
    "\n",
    "source /storage/coda1/p-amedford6/0/shared/rich_project_chbe-medford/medford-share/envs/espresso-6.7MaX-beef-ipi\n",
    "python calc.py"
   ]
  }
 ],
 "metadata": {
  "kernelspec": {
   "display_name": "Python 3",
   "language": "python",
   "name": "python3"
  },
  "language_info": {
   "codemirror_mode": {
    "name": "ipython",
    "version": 3
   },
   "file_extension": ".py",
   "mimetype": "text/x-python",
   "name": "python",
   "nbconvert_exporter": "python",
   "pygments_lexer": "ipython3",
   "version": "3.7.4"
  }
 },
 "nbformat": 4,
 "nbformat_minor": 4
}
