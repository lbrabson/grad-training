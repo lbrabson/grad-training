{
 "cells": [
  {
   "cell_type": "markdown",
   "id": "d2fe0ce8-b7ef-40d0-8d03-f85630d3ae8d",
   "metadata": {},
   "source": [
    "# Exercises"
   ]
  },
  {
   "cell_type": "markdown",
   "id": "58d1f53d-6a3e-4c47-afd6-f7af64c1bd20",
   "metadata": {},
   "source": [
    "This notebook contains exercises for section 1.2 of the Medford group graduate student training. These exercises cover the basic utilities of the Python Atomic Simulation Environment (ASE)."
   ]
  },
  {
   "cell_type": "markdown",
   "id": "845c1165-e92b-49ee-a8b1-acfed1ad01d1",
   "metadata": {},
   "source": [
    "## Exercise 1"
   ]
  },
  {
   "cell_type": "markdown",
   "id": "33441ff2",
   "metadata": {},
   "source": [
    "First, be sure you have downloaded ASE using the Anaconda package manager. Import the Atoms and io modules of the ASE package in the code block below."
   ]
  },
  {
   "cell_type": "code",
   "execution_count": 9,
   "id": "69ab41ee",
   "metadata": {},
   "outputs": [],
   "source": [
    "# import statements here\n",
    "\n",
    "from ase import Atoms, io\n",
    "from ase.io import read, write\n"
   ]
  },
  {
   "cell_type": "markdown",
   "id": "e9199451",
   "metadata": {},
   "source": [
    "Next, read in the attached Ca-LTA Crystallographic Information File (CIF) as an Atoms object using ASE. Ca-LTA is a zeolite with gas adsorption applications and will be the focus of several exercises throughout this training course."
   ]
  },
  {
   "cell_type": "code",
   "execution_count": 4,
   "id": "ea01a638",
   "metadata": {},
   "outputs": [],
   "source": [
    "# read in structure here\n",
    "\n",
    "atoms = read('CaLTA.vasp')"
   ]
  },
  {
   "cell_type": "markdown",
   "id": "80144b04",
   "metadata": {},
   "source": [
    "Using built-in ASE tools, print the number of atoms and each atomic identity."
   ]
  },
  {
   "cell_type": "code",
   "execution_count": 5,
   "id": "4c6d6fbf",
   "metadata": {},
   "outputs": [
    {
     "name": "stdout",
     "output_type": "stream",
     "text": [
      "74\n",
      "{'O', 'Al', 'Ca', 'Si'}\n"
     ]
    }
   ],
   "source": [
    "# code here\n",
    "\n",
    "print(atoms.get_global_number_of_atoms())\n",
    "print(atoms.symbols.species())\n"
   ]
  },
  {
   "cell_type": "markdown",
   "id": "18ed8de9",
   "metadata": {},
   "source": [
    "Use ASE tools to manually activate periodic boundary conditions in all three directions. This will be important when performing ASE calculations in the next module."
   ]
  },
  {
   "cell_type": "code",
   "execution_count": 6,
   "id": "69d12429",
   "metadata": {},
   "outputs": [],
   "source": [
    "# code here\n",
    "\n",
    "atoms.pbc = True"
   ]
  },
  {
   "cell_type": "markdown",
   "id": "5254def4",
   "metadata": {},
   "source": [
    "Lastly, print the unit cell volume to the console."
   ]
  },
  {
   "cell_type": "code",
   "execution_count": 7,
   "id": "c570b68f",
   "metadata": {},
   "outputs": [
    {
     "name": "stdout",
     "output_type": "stream",
     "text": [
      "1825.4652860477408\n"
     ]
    }
   ],
   "source": [
    "# code here\n",
    "\n",
    "print(atoms.get_volume())"
   ]
  }
 ],
 "metadata": {
  "kernelspec": {
   "display_name": "Python (sparc1.2)",
   "language": "python",
   "name": "my-new-env"
  },
  "language_info": {
   "codemirror_mode": {
    "name": "ipython",
    "version": 3
   },
   "file_extension": ".py",
   "mimetype": "text/x-python",
   "name": "python",
   "nbconvert_exporter": "python",
   "pygments_lexer": "ipython3",
   "version": "3.9.17"
  }
 },
 "nbformat": 4,
 "nbformat_minor": 5
}
