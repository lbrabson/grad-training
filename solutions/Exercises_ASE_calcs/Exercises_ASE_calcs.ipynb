{
 "cells": [
  {
   "cell_type": "markdown",
   "id": "d2fe0ce8-b7ef-40d0-8d03-f85630d3ae8d",
   "metadata": {},
   "source": [
    "# Exercises"
   ]
  },
  {
   "cell_type": "markdown",
   "id": "58d1f53d-6a3e-4c47-afd6-f7af64c1bd20",
   "metadata": {},
   "source": [
    "This notebook contains exercises for section 1.3 of the Medford group graduate student training. These exercises cover ASE calculators."
   ]
  },
  {
   "cell_type": "markdown",
   "id": "845c1165-e92b-49ee-a8b1-acfed1ad01d1",
   "metadata": {},
   "source": [
    "## Exercise 1"
   ]
  },
  {
   "cell_type": "markdown",
   "id": "33441ff2",
   "metadata": {},
   "source": [
    "Follow the steps from the previous set of exercises to import Ca-LTA as an Atoms object with periodic boundary conditions, but this time, use ACAJIZ instead."
   ]
  },
  {
   "cell_type": "code",
   "execution_count": 38,
   "id": "b3d2476b",
   "metadata": {},
   "outputs": [
    {
     "name": "stdout",
     "output_type": "stream",
     "text": [
      "232\n"
     ]
    }
   ],
   "source": [
    "from ase import Atoms, io\n",
    "from ase.io import read, write\n",
    "\n",
    "atoms = read('ACAJIZ.cif')\n",
    "atoms.pbc = True\n",
    "\n",
    "print(len(atoms))"
   ]
  },
  {
   "cell_type": "markdown",
   "id": "7bfef8a8",
   "metadata": {},
   "source": [
    "Use an EMT calculator in ASE to optimize the structure, so that the maximum force becomes lower than 0.3 eV/Ang. Use the BFGSLineSearch algorithm and print the trajectory and log files to \"opt.traj\" and \"opt.log\", repsectivley."
   ]
  },
  {
   "cell_type": "code",
   "execution_count": 39,
   "id": "23ef9538",
   "metadata": {},
   "outputs": [
    {
     "name": "stdout",
     "output_type": "stream",
     "text": [
      "Energy before relaxation: 157.86698576474288\n",
      "Energy after relaxation: 42.76029060394741\n"
     ]
    }
   ],
   "source": [
    "from ase.calculators.emt import EMT\n",
    "from ase.units import Bohr,Hartree,mol,kcal,kJ,eV\n",
    "from ase.optimize import BFGSLineSearch\n",
    "\n",
    "calc = EMT()\n",
    "atoms.set_calculator(calc)\n",
    "\n",
    "eng0 = atoms.get_potential_energy()\n",
    "\n",
    "dyn = BFGSLineSearch(atoms, logfile='opt.log', trajectory='opt.traj') \n",
    "dyn.run(fmax=0.3)\n",
    "eng = atoms.get_potential_energy()\n",
    "\n",
    "print(f\"Energy before relaxation: {eng0}\")\n",
    "print(f\"Energy after relaxation: {eng}\")"
   ]
  },
  {
   "cell_type": "markdown",
   "id": "7d656717",
   "metadata": {},
   "source": [
    "## Exercise 2"
   ]
  },
  {
   "cell_type": "markdown",
   "id": "d29493d1",
   "metadata": {},
   "source": [
    "Attached is a ZIP file containg 5 metal-organic framework (MOF) structures. Some of these structures were dervied from experimentation and contain overlapping atoms in their input files due to inaccurate X-ray powder diffraction results. You may define overlapping atoms as any pair of atoms with a distance between them of less than half the sum of their respective atomic radii. Atomic radii for all potentially relevant atoms are provided as a Python dictionary below. <br> <br>\n",
    "Use ASE to identify which structures contain overlapping atoms. Print the 6-letter CSD codes of the defective MOFs to the console. **Do not perform this task with visualization!**"
   ]
  },
  {
   "cell_type": "code",
   "execution_count": 40,
   "id": "69253ee0",
   "metadata": {},
   "outputs": [],
   "source": [
    "radii = {'H':0.38, 'Li':0.86, 'Be':0.53, 'B':1.01, 'C':0.88, 'N':0.86, 'O':0.89, 'F':0.82, 'Na':1.15, 'Mg':1.28, 'Al':1.53, 'Si':1.38, 'P':1.28, 'S':1.20,\n",
    "    'Cl':1.17, 'K':1.44, 'Ca':1.17, 'Sc':1.62, 'Ti':1.65, 'V':1.51, 'Cr':1.53, 'Mn':1.53, 'Fe':1.43, 'Co':1.31, 'Ni':1.33, 'Cu':1.31, 'Zn':1.41, 'Ga':1.40,\n",
    "    'Ge':1.35, 'As':1.39, 'Se':1.40, 'Br':1.39, 'Rb':1.65, 'Sr':1.30, 'Y':1.84, 'Zr':1.73, 'Nb':1.66, 'Mo':1.57, 'Ru':1.58, 'Rh':1.63, 'Pd':1.68,\n",
    "    'Ag':1.56, 'Cd':1.56, 'In':1.53, 'Sn':1.64, 'Sb':1.64, 'Te':1.65, 'I':1.58, 'Cs':1.85, 'Ba':1.52, 'La':1.91, 'Ce':1.98, 'Pr':1.75, 'Nd':1.92,\n",
    "    'Sm':1.89, 'Eu':1.83, 'Gd':1.79, 'Tb':1.82, 'Dy':1.79, 'Ho':1.63, 'Er':1.80, 'Tm':1.84, 'Yb':1.80, 'Lu':1.86, 'Hf':1.73, 'W':1.33, 'Re':1.29,\n",
    "    'Ir':1.50, 'Pt':1.66, 'Au':1.68, 'Hg':1.88, 'Pb':1.72, 'Bi':1.72, 'Th':1.97, 'U':1.76, 'Np':1.73, 'Pu':1.71}"
   ]
  },
  {
   "cell_type": "code",
   "execution_count": 41,
   "id": "411348a6",
   "metadata": {},
   "outputs": [
    {
     "name": "stdout",
     "output_type": "stream",
     "text": [
      "WABWAY.cif\n",
      "ABUWOJ.cif\n",
      "YEFPII.cif\n",
      "  YEFPII.cif structure has a overlapping between 8 and 28\n",
      "WOMFEK.cif\n",
      "  WOMFEK.cif structure has a overlapping between 4 and 7\n",
      "ACAJIZ.cif\n"
     ]
    }
   ],
   "source": [
    "import os\n",
    "\n",
    "for cif in os.listdir('MOF_ASE_EX'):\n",
    "    print(cif)\n",
    "    break_flag = False\n",
    "    atoms = read(f\"MOF_ASE_EX/{cif}\")\n",
    "    index = list(range(len(atoms)))\n",
    "    for i in index:\n",
    "        for j in index:\n",
    "            if i!=j and atoms.get_distance(i,j, mic=True)<=(radii[atoms[i].symbol]+radii[atoms[j].symbol])/2:\n",
    "                print(f\"  {cif} structure has a overlapping between {i} and {j}\")\n",
    "                break_flag = True\n",
    "                break\n",
    "        if break_flag:\n",
    "            break\n"
   ]
  },
  {
   "cell_type": "code",
   "execution_count": null,
   "id": "6622a5d4",
   "metadata": {},
   "outputs": [],
   "source": []
  }
 ],
 "metadata": {
  "kernelspec": {
   "display_name": "Python (sparc1.2)",
   "language": "python",
   "name": "my-new-env"
  },
  "language_info": {
   "codemirror_mode": {
    "name": "ipython",
    "version": 3
   },
   "file_extension": ".py",
   "mimetype": "text/x-python",
   "name": "python",
   "nbconvert_exporter": "python",
   "pygments_lexer": "ipython3",
   "version": "3.9.17"
  }
 },
 "nbformat": 4,
 "nbformat_minor": 5
}
