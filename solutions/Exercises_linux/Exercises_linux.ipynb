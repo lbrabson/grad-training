{
 "cells": [
  {
   "cell_type": "markdown",
   "id": "d2fe0ce8-b7ef-40d0-8d03-f85630d3ae8d",
   "metadata": {},
   "source": [
    "# Exercises"
   ]
  },
  {
   "cell_type": "markdown",
   "id": "58d1f53d-6a3e-4c47-afd6-f7af64c1bd20",
   "metadata": {},
   "source": [
    "This notebook contains exercises for section 1.4 of the Medford group graduate student training. These exercises cover basic Linux and scripting skills."
   ]
  },
  {
   "cell_type": "markdown",
   "id": "845c1165-e92b-49ee-a8b1-acfed1ad01d1",
   "metadata": {},
   "source": [
    "## Exercise 1"
   ]
  },
  {
   "cell_type": "markdown",
   "id": "00402e0a",
   "metadata": {},
   "source": [
    "First, log in to PACE ICE (VIP) or PACE Hive (grad students) using your GTID in your terminal of choice. **Do not cheat this set of exercises by using a built-in file explorer such as Microsoft Visual Studio!** You can learn more from the PACE documentation site (https://pace.gatech.edu/pace-user-documentation). <br> <br>\n",
    "Next, create a folder called \"Training\" in scratch storage. Navigate to the Training folder and create a Python script file called \"test.py\" that prints the phrase \"Hello world!\" as below."
   ]
  },
  {
   "cell_type": "code",
   "execution_count": 27,
   "id": "1055a101",
   "metadata": {},
   "outputs": [
    {
     "name": "stdout",
     "output_type": "stream",
     "text": [
      "Hello world!\r\n"
     ]
    }
   ],
   "source": [
    "!mkdir -p ./scratch/Training\n",
    "\n",
    "with open(\"./scratch/Training/test.py\", 'w') as f:\n",
    "    f.write(\"print('Hello world!')\")\n",
    "\n",
    "!python ./scratch/Training/test.py"
   ]
  },
  {
   "cell_type": "markdown",
   "id": "a804ccda",
   "metadata": {},
   "source": [
    "## Exercise 2"
   ]
  },
  {
   "cell_type": "markdown",
   "id": "8b80d217",
   "metadata": {},
   "source": [
    "In your Training folder, create a bash script that submits your test Python script to the scheduler. Explicitly allocate one core and one node for 5 minutes. Specify an output file called \"test.out\" to save the results of running your Python file. Submit the job using the sbatch command and check to be sure your code printed \"Hello world!\" to \"test.out\". As a reminder, you can check the status of a submitted job by running the command \"squeue -u \\<GT USERNAME\\>\" in the terminal."
   ]
  },
  {
   "cell_type": "code",
   "execution_count": 28,
   "id": "46de7c8b",
   "metadata": {},
   "outputs": [
    {
     "name": "stdout",
     "output_type": "stream",
     "text": [
      "Submitted batch job 10580\r\n"
     ]
    }
   ],
   "source": [
    "import os\n",
    "\n",
    "dir_o = os.getcwd()\n",
    "os.chdir(\"./scratch/Training\")\n",
    "\n",
    "with open(\"test.sh\", \"w\") as f:\n",
    "    f.write('#!/bin/bash\\n')\n",
    "    f.write('#SBATCH -N 1 --ntasks-per-node=1\\n')\n",
    "    f.write('#SBATCH --mem-per-cpu=4G\\n')\n",
    "    f.write('#SBATCH -t00:05:00\\n')\n",
    "    f.write('#SBATCH -A chbe\\n')\n",
    "    f.write('#SBATCH -J Excercises_linux\\n')\n",
    "    f.write('#SBATCH -o test.out -e Report_err-%j.err')\n",
    "    f.write('\\n')\n",
    "    f.write('cd $SLURM_SUBMIT_DIR\\n')\n",
    "    f.write('python test.py\\n')\n",
    "    \n",
    "!sbatch test.sh\n",
    "\n",
    "os.chdir(dir_o)"
   ]
  },
  {
   "cell_type": "code",
   "execution_count": 29,
   "id": "821f4195",
   "metadata": {},
   "outputs": [
    {
     "name": "stdout",
     "output_type": "stream",
     "text": [
      "---------------------------------------\n",
      "Begin Slurm Prolog: Jul-21-2023 17:56:43\n",
      "Job ID:    10580\n",
      "User ID:   nyu49\n",
      "Account:   chbe\n",
      "Job name:  Excercises_linux\n",
      "Partition: pace-cpu\n",
      "---------------------------------------\n",
      "Hello world!\n",
      "---------------------------------------\n",
      "Begin Slurm Epilog: Jul-21-2023 17:56:43\n",
      "Job ID:        10580\n",
      "Array Job ID:  _4294967294\n",
      "User ID:       nyu49\n",
      "Account:       chbe\n",
      "Job name:      Excercises_linux\n",
      "Resources:     cpu=1,mem=4G,node=1\n",
      "Rsrc Used:     cput=00:00:07,vmem=12K,walltime=00:00:07,mem=0,energy_used=0\n",
      "Partition:     pace-cpu\n",
      "Nodes:         atl1-1-02-003-19-1\n",
      "---------------------------------------\n",
      "\n"
     ]
    }
   ],
   "source": [
    "with open(\"./scratch/Training/test.out\", \"r\") as file:\n",
    "    content = file.read()\n",
    "\n",
    "print(content)"
   ]
  },
  {
   "cell_type": "markdown",
   "id": "2d70da69",
   "metadata": {},
   "source": [
    "## Exercise 3"
   ]
  },
  {
   "cell_type": "markdown",
   "id": "b3939320",
   "metadata": {},
   "source": [
    "In your Training folder, create a subdirectory called \"Storage\" and move your Python script into \"Storage\" using Linux commands. As a reminder, you can view the path to your current directory using the \"pwd\" (print working directory) command. Next, create a new Python script called \"Example.py.\" in the Storage subdirectory. There should be two Python scripts in this subdirectory at the end of this exercise. You do not need to write any code in Example.py."
   ]
  },
  {
   "cell_type": "code",
   "execution_count": 30,
   "id": "87d854c6",
   "metadata": {},
   "outputs": [],
   "source": [
    "dir_w = dir_o + \"/scratch/Training\"\n",
    "\n",
    "os.chdir(dir_w)\n",
    "\n",
    "!mkdir Storage\n",
    "\n",
    "!cp test.py test_copied.py  ## for convenience\n",
    "!mv test_copied.py ./Storage\n",
    "\n",
    "!touch ./Storage/Example.py\n",
    "\n",
    "os.chdir(dir_o)"
   ]
  },
  {
   "cell_type": "markdown",
   "id": "7905e2a1",
   "metadata": {},
   "source": [
    "## Exercise 4"
   ]
  },
  {
   "cell_type": "markdown",
   "id": "33441ff2",
   "metadata": {},
   "source": [
    "Lastly, navigate to the root Training directory. Using only one block of Linux commands, navigate into the Storage subdirectory and delete all Python scripts. Check to ensure that you were successful. **It is important that you delete both files using one set of commands. Do not individually delete each Python script; use Linux loops instead!**"
   ]
  },
  {
   "cell_type": "code",
   "execution_count": 35,
   "id": "35a2d00b",
   "metadata": {},
   "outputs": [
    {
     "name": "stdout",
     "output_type": "stream",
     "text": [
      "cp -r ./Storage ./Storage_copied  ## for convenience\n",
      "\n",
      "cd ./Storage_copied\n",
      "echo $PWD\n",
      "\n",
      "for file in ./*; do\n",
      "\trm \"$file\"\n",
      "done\n",
      "\n"
     ]
    }
   ],
   "source": [
    "os.chdir(dir_w)\n",
    "with open(\"bash_Exercise4\", \"r\") as file:\n",
    "    content = file.read()\n",
    "\n",
    "print(content)"
   ]
  },
  {
   "cell_type": "code",
   "execution_count": 37,
   "id": "73d072cf",
   "metadata": {},
   "outputs": [
    {
     "name": "stdout",
     "output_type": "stream",
     "text": [
      "/home/hice1/nyu49/Data/VIP/Excercises/From_Logan/Exercises_linux/scratch/Training/Storage_copied\r\n"
     ]
    }
   ],
   "source": [
    "os.chdir(dir_w)\n",
    "\n",
    "!chmod +x ./bash_Exercise4\n",
    "! ./bash_Exercise4\n",
    "\n",
    "os.chdir(dir_o)"
   ]
  }
 ],
 "metadata": {
  "kernelspec": {
   "display_name": "Python 3 (ipykernel)",
   "language": "python",
   "name": "python3"
  },
  "language_info": {
   "codemirror_mode": {
    "name": "ipython",
    "version": 3
   },
   "file_extension": ".py",
   "mimetype": "text/x-python",
   "name": "python",
   "nbconvert_exporter": "python",
   "pygments_lexer": "ipython3",
   "version": "3.9.12"
  }
 },
 "nbformat": 4,
 "nbformat_minor": 5
}
